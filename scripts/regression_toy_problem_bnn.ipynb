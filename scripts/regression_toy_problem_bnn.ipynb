{
 "cells": [
  {
   "cell_type": "markdown",
   "metadata": {},
   "source": [
    "# Toy ML Problem for FL theories"
   ]
  },
  {
   "cell_type": "markdown",
   "metadata": {},
   "source": [
    "## Regression with BNNs"
   ]
  },
  {
   "cell_type": "code",
   "execution_count": null,
   "metadata": {},
   "outputs": [],
   "source": [
    "import numpy as np\n",
    "from sklearn import datasets\n",
    "import torch\n",
    "import torch.nn as nn\n",
    "import torch.optim as optim\n",
    "import torchbnn as bnn\n",
    "import matplotlib.pyplot as plt\n",
    "from tqdm import trange"
   ]
  },
  {
   "cell_type": "code",
   "execution_count": null,
   "metadata": {},
   "outputs": [],
   "source": [
    "input_noise = 0.1"
   ]
  },
  {
   "cell_type": "markdown",
   "metadata": {},
   "source": [
    "#### Data simulation"
   ]
  },
  {
   "cell_type": "code",
   "execution_count": null,
   "metadata": {},
   "outputs": [],
   "source": [
    "x = torch.linspace(-2, 2, 500)\n",
    "y = x.pow(5) -10* x.pow(1) + input_noise*torch.rand(x.size())\n",
    "x = torch.unsqueeze(x, dim=1)\n",
    "y = torch.unsqueeze(y, dim=1)\n",
    "def clean_target(x):\n",
    "    return x.pow(5) -10* x.pow(1) + input_noise/2\n",
    "def target(x):\n",
    "    return x.pow(5) -10* x.pow(1) +input_noise*torch.rand(x.size())\n",
    "x_test = torch.linspace(-2, 2, 300)\n",
    "y_test = target(x_test)\n",
    "\n",
    "x_test = torch.unsqueeze(x_test, dim=1)\n",
    "y_test = torch.unsqueeze(y_test, dim=1)\n",
    "\n",
    "plt.scatter(x.data.numpy(), y.data.numpy(), s=10)\n",
    "plt.scatter(x.data.numpy(), clean_target(x).numpy(), s=10)\n",
    "\n",
    "plt.show()"
   ]
  },
  {
   "cell_type": "markdown",
   "metadata": {},
   "source": [
    "#### Standard Model"
   ]
  },
  {
   "cell_type": "code",
   "execution_count": null,
   "metadata": {},
   "outputs": [],
   "source": [
    "model = nn.Sequential(\n",
    "    nn.Linear(in_features=1, out_features=100),\n",
    "    nn.Tanh(),\n",
    "    # nn.GELU(),\n",
    "    nn.Linear(in_features=100, out_features=1),\n",
    ")"
   ]
  },
  {
   "cell_type": "code",
   "execution_count": null,
   "metadata": {},
   "outputs": [],
   "source": [
    "mse_loss = nn.MSELoss()\n",
    "optimizer = optim.Adam(model.parameters(), lr=0.01)\n",
    "for step in range(2000):\n",
    "    optimizer.zero_grad()\n",
    "    output = model(x)\n",
    "    loss = mse_loss(output, y)\n",
    "    loss.backward()\n",
    "    optimizer.step()\n",
    "\n",
    "    if step % 100 == 0:\n",
    "        print('[%d] loss: %.3f' % (step, loss.item()))"
   ]
  },
  {
   "cell_type": "code",
   "execution_count": null,
   "metadata": {},
   "outputs": [],
   "source": [
    "outs = model(x_test).data.numpy()"
   ]
  },
  {
   "cell_type": "code",
   "execution_count": null,
   "metadata": {},
   "outputs": [],
   "source": [
    "plt.figure(figsize=(10,8))\n",
    "plt.plot(x_test.data.numpy(), outs ,color='navy',lw=3,label='Predicted Mean Model')\n",
    "\n",
    "#plt.plot(x_test.data.numpy(),mean_values,color='darkorange')\n",
    "plt.plot(x_test.data.numpy(),y_test.data.numpy(),'.',color='darkorange',markersize=4,label='Test set')\n",
    "plt.plot(x_test.data.numpy(),clean_target(x_test).data.numpy(),color='green',markersize=4,label='Target function')\n",
    "plt.legend()\n",
    "plt.xlabel('x')\n",
    "plt.ylabel('y')"
   ]
  },
  {
   "cell_type": "markdown",
   "metadata": {},
   "source": [
    "#### TorchBNN BNN"
   ]
  },
  {
   "cell_type": "code",
   "execution_count": null,
   "metadata": {},
   "outputs": [],
   "source": [
    "model_bnn = nn.Sequential(\n",
    "    bnn.BayesLinear(prior_mu=0, prior_sigma=0.1, in_features=1, out_features=100),\n",
    "    nn.Tanh(),\n",
    "    bnn.BayesLinear(prior_mu=0, prior_sigma=0.1, in_features=100, out_features=1),\n",
    ")\n",
    "mse_loss = nn.MSELoss()\n",
    "kl_loss = bnn.BKLLoss(reduction='mean', last_layer_only=False)\n",
    "kl_weight = 0.01\n",
    "\n",
    "optimizer = optim.Adam(model_bnn.parameters(), lr=0.01)"
   ]
  },
  {
   "cell_type": "code",
   "execution_count": null,
   "metadata": {},
   "outputs": [],
   "source": [
    "for step in trange(2000):\n",
    "    pre = model_bnn(x)\n",
    "    mse = mse_loss(pre, y)\n",
    "    kl = kl_loss(model_bnn)\n",
    "    cost = mse + kl_weight*kl\n",
    "    \n",
    "    optimizer.zero_grad()\n",
    "    cost.backward()\n",
    "    optimizer.step()\n",
    "    \n",
    "print('- MSE : %2.2f, KL : %2.2f' % (mse.item(), kl.item()), end=\"\\r\")"
   ]
  },
  {
   "cell_type": "code",
   "execution_count": null,
   "metadata": {},
   "outputs": [],
   "source": [
    "models_result = np.array([model_bnn(x_test).data.numpy() for k in range(100)])\n",
    "models_result = models_result[:,:,0]    \n",
    "models_result = models_result.T\n",
    "mean_values = np.array([models_result[i].mean() for i in range(len(models_result))])\n",
    "std_values = np.array([models_result[i].std() for i in range(len(models_result))])"
   ]
  },
  {
   "cell_type": "code",
   "execution_count": null,
   "metadata": {},
   "outputs": [],
   "source": [
    "plt.figure(figsize=(10,8))\n",
    "plt.plot(x_test.data.numpy(), mean_values,color='navy', lw=3,label='Predicted Mean Model')\n",
    "plt.fill_between(x_test.data.numpy().T[0],mean_values-3.0*std_values,mean_values+3.0*std_values,alpha=0.2,color='navy',label='99.7% confidence interval')\n",
    "#plt.plot(x_test.data.numpy(),mean_values,color='darkorange')\n",
    "plt.plot(x_test.data.numpy(),y_test.data.numpy(),'.',color='darkorange',markersize=4,label='Test set')\n",
    "plt.plot(x_test.data.numpy(),clean_target(x_test).data.numpy(),color='green',markersize=4,label='Target function')\n",
    "plt.legend()\n",
    "plt.xlabel('x')\n",
    "plt.ylabel('y')"
   ]
  },
  {
   "cell_type": "code",
   "execution_count": null,
   "metadata": {},
   "outputs": [],
   "source": [
    "sigmas = {}\n",
    "for k,v in model_bnn.named_parameters():\n",
    "    if 'sigma' in k:\n",
    "        sigmas[k] = v.detach().numpy().squeeze()"
   ]
  },
  {
   "cell_type": "code",
   "execution_count": null,
   "metadata": {},
   "outputs": [],
   "source": [
    "mean_sigmas = {}\n",
    "for k, sig in sigmas.items():\n",
    "    if sig.ndim > 0:\n",
    "        s_mean = np.sqrt(np.sum(np.exp(2*sig))/len(sig))\n",
    "    else:\n",
    "        s_mean = np.exp(sig)\n",
    "\n",
    "    mean_sigmas[k] = s_mean\n",
    "    print(s_mean)\n",
    "    print('---')"
   ]
  },
  {
   "cell_type": "code",
   "execution_count": null,
   "metadata": {},
   "outputs": [],
   "source": [
    "results = {}\n",
    "results['noise=2'] = mean_sigmas"
   ]
  },
  {
   "cell_type": "code",
   "execution_count": null,
   "metadata": {},
   "outputs": [],
   "source": [
    "results[\"noise=4\"] = mean_sigmas"
   ]
  },
  {
   "cell_type": "code",
   "execution_count": null,
   "metadata": {},
   "outputs": [],
   "source": [
    "results[\"noise=0.1\"] = mean_sigmas"
   ]
  },
  {
   "cell_type": "markdown",
   "metadata": {},
   "source": [
    "#### BLITZ BNN"
   ]
  },
  {
   "cell_type": "code",
   "execution_count": null,
   "metadata": {},
   "outputs": [],
   "source": [
    "from blitz.modules import BayesianLinear\n",
    "from blitz.utils import variational_estimator\n",
    "import torch.nn.functional as F"
   ]
  },
  {
   "cell_type": "code",
   "execution_count": null,
   "metadata": {},
   "outputs": [],
   "source": [
    "@variational_estimator\n",
    "class BayesianRegressor(nn.Module):\n",
    "    def __init__(self, input_dim, output_dim):\n",
    "        super().__init__()\n",
    "        #self.linear = nn.Linear(input_dim, output_dim)\n",
    "        self.blinear1 = BayesianLinear(input_dim, 100)\n",
    "        self.blinear2 = BayesianLinear(100, output_dim)\n",
    "        \n",
    "    def forward(self, x):\n",
    "        x_ = self.blinear1(x)\n",
    "        x_ = F.tanh(x_)\n",
    "        return self.blinear2(x_)\n"
   ]
  },
  {
   "cell_type": "code",
   "execution_count": null,
   "metadata": {},
   "outputs": [],
   "source": [
    "regressor = BayesianRegressor(1, 1)\n",
    "optimizer = torch.optim.Adam(regressor.parameters(), lr=0.01)\n",
    "criterion = torch.nn.MSELoss()\n",
    "for step in range(2000):    \n",
    "    optimizer.zero_grad()\n",
    "    loss = regressor.sample_elbo(inputs=x, labels=y, criterion=criterion, sample_nbr=1, complexity_cost_weight=0.01)\n",
    "    loss.backward()\n",
    "    optimizer.step()\n",
    "    print(f'Loss: {loss.item()}, iter: {step}', end=\"\\r\")"
   ]
  },
  {
   "cell_type": "code",
   "execution_count": null,
   "metadata": {},
   "outputs": [],
   "source": [
    "models_result = np.array([regressor(x_test).data.numpy() for k in range(100)])\n",
    "models_result = models_result[:,:,0]    \n",
    "models_result = models_result.T\n",
    "mean_values = np.array([models_result[i].mean() for i in range(len(models_result))])\n",
    "std_values = np.array([models_result[i].std() for i in range(len(models_result))])"
   ]
  },
  {
   "cell_type": "code",
   "execution_count": null,
   "metadata": {},
   "outputs": [],
   "source": [
    "plt.figure(figsize=(10,8))\n",
    "plt.plot(x_test.data.numpy(), mean_values,color='navy', lw=3,label='Predicted Mean Model')\n",
    "plt.fill_between(x_test.data.numpy().T[0],mean_values-3.0*std_values,mean_values+3.0*std_values,alpha=0.2,color='navy',label='99.7% confidence interval')\n",
    "#plt.plot(x_test.data.numpy(),mean_values,color='darkorange')\n",
    "plt.plot(x_test.data.numpy(),y_test.data.numpy(),'.',color='darkorange',markersize=4,label='Test set')\n",
    "plt.plot(x_test.data.numpy(),clean_target(x_test).data.numpy(),color='green',markersize=4,label='Target function')\n",
    "plt.legend()\n",
    "plt.xlabel('x')\n",
    "plt.ylabel('y')"
   ]
  },
  {
   "cell_type": "markdown",
   "metadata": {},
   "source": [
    "## Classification with Iris"
   ]
  },
  {
   "cell_type": "code",
   "execution_count": null,
   "metadata": {},
   "outputs": [],
   "source": []
  }
 ],
 "metadata": {
  "kernelspec": {
   "display_name": "Python 3",
   "language": "python",
   "name": "python3"
  },
  "language_info": {
   "codemirror_mode": {
    "name": "ipython",
    "version": 3
   },
   "file_extension": ".py",
   "mimetype": "text/x-python",
   "name": "python",
   "nbconvert_exporter": "python",
   "pygments_lexer": "ipython3",
   "version": "3.10.13"
  }
 },
 "nbformat": 4,
 "nbformat_minor": 2
}
